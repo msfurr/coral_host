{
 "cells": [
  {
   "cell_type": "code",
   "execution_count": 33,
   "metadata": {},
   "outputs": [],
   "source": [
    "def movingAvg(Class, windowSize):\n",
    "    \"\"\"\n",
    "    Create moving average to remove single outliers\n",
    "\n",
    "    Args:\n",
    "        Class (list): List of inhale / exhale classes\n",
    "        Windowsize (int): Size of moving average window\n",
    "\n",
    "    Returns:\n",
    "        filteredClass (list): Filtered list of classes\n",
    "    \"\"\"\n",
    "    \n",
    "    filteredClass = []\n",
    "    for i in range(0, len(Class)):\n",
    "\n",
    "        if i < windowSize - 1:\n",
    "            filteredClass.append(Class[i])\n",
    "\n",
    "        elif Class[i] != Class[i - 1]:\n",
    "            if sum(Class[i - (windowSize - 1):(i + 1)]) / windowSize > 1:\n",
    "                filteredClass.append(2)\n",
    "\n",
    "            elif sum(Class[i - (windowSize - 1):(i + 1)]) / windowSize < 1:\n",
    "                filteredClass.append(0)\n",
    "\n",
    "            else:\n",
    "                filteredClass.append(Class[i])\n",
    "\n",
    "        elif Class[i] == Class[i - 1]:\n",
    "            filteredClass.append(Class[i])\n",
    "            \n",
    "    return filteredClass\n",
    "\n",
    "def classSwitch(Class):\n",
    "    \"\"\"\n",
    "    Class switch function to filter 3 classifiers down to 2 (inhale and exhale)\n",
    "\n",
    "    Args:\n",
    "        Class (list): List of inhale / exhale classes\n",
    "\n",
    "    Returns:\n",
    "        decisionClass (list): Filtered (with moving average) of resulting simplified class\n",
    "    \"\"\"\n",
    "    \n",
    "    decision = []\n",
    "    switchLog = []\n",
    "    for i in range(0, len(Class)):\n",
    "        \n",
    "        print(i)\n",
    "\n",
    "        if i >= 1:\n",
    "\n",
    "            if Class[i] == Class[i - 1] and Class[i] == 1:\n",
    "                decision.append(Class[i])\n",
    "                \n",
    "            elif Class[i] == Class[i - 1] and Class[i] == 0:\n",
    "                decision.append(Class[i])\n",
    "                \n",
    "            elif Class[i] == 0 and Class[i - 1] == 2:\n",
    "                switchLog.append(i)\n",
    "                decision.append(Class[switchLog[-1] - 1])\n",
    "                \n",
    "            elif Class[i] == 1 and Class[i - 1] == 2:\n",
    "                switchLog.append(i)\n",
    "                decision.append(Class[switchLog[-1] - 1])\n",
    "                \n",
    "            elif Class[i] == 2 and Class[i - 1] == 0 and Class[i] != Class[switchLog[-1] - 1]:\n",
    "                decision.append(Class[i])\n",
    "                \n",
    "            elif Class[i] == 2 and Class[i - 1] == 0 and Class[i] == Class[switchLog[-1] - 1]:\n",
    "                decision.append(Class[i])\n",
    "                \n",
    "            elif Class[i] == 2 and Class[i - 1] == 1 and Class[i] != Class[switchLog[-1] - 1]:\n",
    "                decision.append(Class[i])\n",
    "                \n",
    "            elif Class[i] == 2 and Class[i - 1] == 1 and Class[i] == Class[switchLog[-1] - 1]:\n",
    "                decision.append(Class[i])\n",
    "                \n",
    "            elif Class[i] == Class[i - 1] and Class[i] == 2:\n",
    "                decision.append(Class[switchLog[-1] - 1])\n",
    "                \n",
    "            elif Class[i] == 1 and Class[i - 1] == 0:\n",
    "                decision.append(Class[-1])\n",
    "                \n",
    "            elif Class[i] == 0 and Class[i - 1] == 1:\n",
    "                decision.append(Class[-1])\n",
    "                \n",
    "        else:\n",
    "            \n",
    "            decision.append(Class[i])\n",
    "            \n",
    "    return decision\n",
    "                "
   ]
  },
  {
   "cell_type": "code",
   "execution_count": 35,
   "metadata": {},
   "outputs": [],
   "source": [
    "switch = [3]"
   ]
  },
  {
   "cell_type": "code",
   "execution_count": null,
   "metadata": {},
   "outputs": [],
   "source": []
  },
  {
   "cell_type": "code",
   "execution_count": null,
   "metadata": {},
   "outputs": [],
   "source": []
  },
  {
   "cell_type": "code",
   "execution_count": null,
   "metadata": {},
   "outputs": [],
   "source": []
  },
  {
   "cell_type": "code",
   "execution_count": null,
   "metadata": {},
   "outputs": [],
   "source": []
  },
  {
   "cell_type": "code",
   "execution_count": null,
   "metadata": {},
   "outputs": [],
   "source": []
  },
  {
   "cell_type": "code",
   "execution_count": null,
   "metadata": {},
   "outputs": [],
   "source": []
  },
  {
   "cell_type": "code",
   "execution_count": null,
   "metadata": {},
   "outputs": [],
   "source": []
  },
  {
   "cell_type": "code",
   "execution_count": null,
   "metadata": {},
   "outputs": [],
   "source": []
  },
  {
   "cell_type": "code",
   "execution_count": null,
   "metadata": {},
   "outputs": [],
   "source": []
  },
  {
   "cell_type": "code",
   "execution_count": null,
   "metadata": {},
   "outputs": [],
   "source": []
  },
  {
   "cell_type": "code",
   "execution_count": null,
   "metadata": {},
   "outputs": [],
   "source": []
  },
  {
   "cell_type": "code",
   "execution_count": null,
   "metadata": {},
   "outputs": [],
   "source": []
  },
  {
   "cell_type": "code",
   "execution_count": null,
   "metadata": {},
   "outputs": [],
   "source": []
  },
  {
   "cell_type": "code",
   "execution_count": null,
   "metadata": {},
   "outputs": [],
   "source": []
  },
  {
   "cell_type": "code",
   "execution_count": null,
   "metadata": {},
   "outputs": [],
   "source": []
  },
  {
   "cell_type": "code",
   "execution_count": null,
   "metadata": {},
   "outputs": [],
   "source": []
  },
  {
   "cell_type": "code",
   "execution_count": null,
   "metadata": {},
   "outputs": [],
   "source": []
  }
 ],
 "metadata": {
  "kernelspec": {
   "display_name": "Python 3",
   "language": "python",
   "name": "python3"
  },
  "language_info": {
   "codemirror_mode": {
    "name": "ipython",
    "version": 3
   },
   "file_extension": ".py",
   "mimetype": "text/x-python",
   "name": "python",
   "nbconvert_exporter": "python",
   "pygments_lexer": "ipython3",
   "version": "3.7.3"
  }
 },
 "nbformat": 4,
 "nbformat_minor": 2
}
